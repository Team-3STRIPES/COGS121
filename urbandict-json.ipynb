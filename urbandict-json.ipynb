{
 "cells": [
  {
   "cell_type": "code",
   "execution_count": 1,
   "metadata": {},
   "outputs": [],
   "source": [
    "import csv\n",
    "import json"
   ]
  },
  {
   "cell_type": "code",
   "execution_count": 2,
   "metadata": {},
   "outputs": [],
   "source": [
    "# CSV from https://www.kaggle.com/therohk/urban-dictionary-words-dataset\n",
    "dataset = 'urbandict-word-def.csv'\n",
    "jsonfile = 'urbandict-word-def.json'\n",
    "\n",
    "# number of rows to go through since the full dataset is >2M which kills memory\n",
    "numrow = 50000\n",
    "\n",
    "# threshold for upvotes/downvotes ratio\n",
    "goodness = 2"
   ]
  },
  {
   "cell_type": "code",
   "execution_count": 3,
   "metadata": {},
   "outputs": [],
   "source": [
    "# feeds the dataset into a csv.DictReader\n",
    "f = open(dataset, 'r', encoding=\"utf8\")\n",
    "fcols = ('word_id', 'word', 'up_votes', 'down_votes', 'author', 'definition')\n",
    "reader = csv.DictReader(f, fieldnames=fcols)\n",
    "\n",
    "ignore_headers = True\n",
    "data = []\n",
    "for row in reader:\n",
    "    try:\n",
    "        if ignore_headers:\n",
    "            ignore_headers = False\n",
    "            continue\n",
    "        if int(row['down_votes']) * goodness > int(row['up_votes']):\n",
    "            continue\n",
    "        data.append(row)\n",
    "        numrow -= 1\n",
    "        if numrow <= 0:\n",
    "            break\n",
    "    except:\n",
    "        continue"
   ]
  },
  {
   "cell_type": "code",
   "execution_count": 4,
   "metadata": {
    "scrolled": true
   },
   "outputs": [
    {
     "data": {
      "text/plain": [
       "11241127"
      ]
     },
     "execution_count": 4,
     "metadata": {},
     "output_type": "execute_result"
    }
   ],
   "source": [
    "# converts and writes out data to JSON file\n",
    "out = json.dumps(data)\n",
    "f = open(jsonfile, 'w')\n",
    "f.write(out)"
   ]
  }
 ],
 "metadata": {
  "kernelspec": {
   "display_name": "Python 3",
   "language": "python",
   "name": "python3"
  },
  "language_info": {
   "codemirror_mode": {
    "name": "ipython",
    "version": 3
   },
   "file_extension": ".py",
   "mimetype": "text/x-python",
   "name": "python",
   "nbconvert_exporter": "python",
   "pygments_lexer": "ipython3",
   "version": "3.6.2"
  }
 },
 "nbformat": 4,
 "nbformat_minor": 2
}
